{
  "nbformat": 4,
  "nbformat_minor": 0,
  "metadata": {
    "colab": {
      "name": "final_clustering.ipynb",
      "provenance": [],
      "collapsed_sections": [],
      "authorship_tag": "ABX9TyNLxVXvZNptg/dMmJFQoNNh",
      "include_colab_link": true
    },
    "kernelspec": {
      "name": "python3",
      "display_name": "Python 3"
    },
    "language_info": {
      "name": "python"
    }
  },
  "cells": [
    {
      "cell_type": "markdown",
      "metadata": {
        "id": "view-in-github",
        "colab_type": "text"
      },
      "source": [
        "<a href=\"https://colab.research.google.com/github/Kealfeyne/Samsung_Bootcamp_Classic_ML/blob/main/final_clustering.ipynb\" target=\"_parent\"><img src=\"https://colab.research.google.com/assets/colab-badge.svg\" alt=\"Open In Colab\"/></a>"
      ]
    },
    {
      "cell_type": "code",
      "execution_count": 2,
      "metadata": {
        "id": "ENa0PlaGqYDt"
      },
      "outputs": [],
      "source": [
        "import numpy as np\n",
        "import pandas as pd\n",
        "from google.colab import files\n",
        "import matplotlib.pyplot as plt "
      ]
    },
    {
      "cell_type": "code",
      "source": [
        "dataset = pd.read_csv('dataset.txt', sep=' ', header=None, skipinitialspace=True)\n",
        "dataset.drop([0, 1, 2, 3, 504], axis=1, inplace=True)\n",
        "dataset.columns = list(range(500))"
      ],
      "metadata": {
        "id": "I3u3razrrZg7"
      },
      "execution_count": 3,
      "outputs": []
    },
    {
      "cell_type": "code",
      "source": [
        "dataset = 2**14-dataset-1560"
      ],
      "metadata": {
        "id": "c81Tko9Btgmm"
      },
      "execution_count": 4,
      "outputs": []
    },
    {
      "cell_type": "code",
      "source": [
        "dataset.head()"
      ],
      "metadata": {
        "colab": {
          "base_uri": "https://localhost:8080/",
          "height": 235
        },
        "id": "SDjE0_H6sJBr",
        "outputId": "9962ccc5-645a-432f-b083-18641bb1c4f7"
      },
      "execution_count": 537,
      "outputs": [
        {
          "output_type": "execute_result",
          "data": {
            "text/plain": [
              "   0    1    2    3    4    5    6    7    8    9    ...  490  491  492  493  \\\n",
              "0    4    1    0    2    6    4    0    2    4    4  ...   -4    2    9    9   \n",
              "1    4    2    4   -2    0    2    4    2    1    3  ...   -4    7    0    2   \n",
              "2    4    4    2   -1    4    0    0    5    1    0  ...    4    3    4    4   \n",
              "3   -4    2    6    0    0    2    4    2    0    4  ...    0   -2    2    3   \n",
              "4    1    9    1    3   -3    4    1    0    8    3  ...    4    4    1   -4   \n",
              "\n",
              "   494  495  496  497  498  499  \n",
              "0    7    5    4    2    4    5  \n",
              "1    0    5    4    5    2    4  \n",
              "2    6    3    1    4    4    3  \n",
              "3    4   -4    4    2    1    2  \n",
              "4    0    4    0    0    2   -1  \n",
              "\n",
              "[5 rows x 500 columns]"
            ],
            "text/html": [
              "\n",
              "  <div id=\"df-a43cffd2-80fd-4c9e-8559-fe3c2a12420f\">\n",
              "    <div class=\"colab-df-container\">\n",
              "      <div>\n",
              "<style scoped>\n",
              "    .dataframe tbody tr th:only-of-type {\n",
              "        vertical-align: middle;\n",
              "    }\n",
              "\n",
              "    .dataframe tbody tr th {\n",
              "        vertical-align: top;\n",
              "    }\n",
              "\n",
              "    .dataframe thead th {\n",
              "        text-align: right;\n",
              "    }\n",
              "</style>\n",
              "<table border=\"1\" class=\"dataframe\">\n",
              "  <thead>\n",
              "    <tr style=\"text-align: right;\">\n",
              "      <th></th>\n",
              "      <th>0</th>\n",
              "      <th>1</th>\n",
              "      <th>2</th>\n",
              "      <th>3</th>\n",
              "      <th>4</th>\n",
              "      <th>5</th>\n",
              "      <th>6</th>\n",
              "      <th>7</th>\n",
              "      <th>8</th>\n",
              "      <th>9</th>\n",
              "      <th>...</th>\n",
              "      <th>490</th>\n",
              "      <th>491</th>\n",
              "      <th>492</th>\n",
              "      <th>493</th>\n",
              "      <th>494</th>\n",
              "      <th>495</th>\n",
              "      <th>496</th>\n",
              "      <th>497</th>\n",
              "      <th>498</th>\n",
              "      <th>499</th>\n",
              "    </tr>\n",
              "  </thead>\n",
              "  <tbody>\n",
              "    <tr>\n",
              "      <th>0</th>\n",
              "      <td>4</td>\n",
              "      <td>1</td>\n",
              "      <td>0</td>\n",
              "      <td>2</td>\n",
              "      <td>6</td>\n",
              "      <td>4</td>\n",
              "      <td>0</td>\n",
              "      <td>2</td>\n",
              "      <td>4</td>\n",
              "      <td>4</td>\n",
              "      <td>...</td>\n",
              "      <td>-4</td>\n",
              "      <td>2</td>\n",
              "      <td>9</td>\n",
              "      <td>9</td>\n",
              "      <td>7</td>\n",
              "      <td>5</td>\n",
              "      <td>4</td>\n",
              "      <td>2</td>\n",
              "      <td>4</td>\n",
              "      <td>5</td>\n",
              "    </tr>\n",
              "    <tr>\n",
              "      <th>1</th>\n",
              "      <td>4</td>\n",
              "      <td>2</td>\n",
              "      <td>4</td>\n",
              "      <td>-2</td>\n",
              "      <td>0</td>\n",
              "      <td>2</td>\n",
              "      <td>4</td>\n",
              "      <td>2</td>\n",
              "      <td>1</td>\n",
              "      <td>3</td>\n",
              "      <td>...</td>\n",
              "      <td>-4</td>\n",
              "      <td>7</td>\n",
              "      <td>0</td>\n",
              "      <td>2</td>\n",
              "      <td>0</td>\n",
              "      <td>5</td>\n",
              "      <td>4</td>\n",
              "      <td>5</td>\n",
              "      <td>2</td>\n",
              "      <td>4</td>\n",
              "    </tr>\n",
              "    <tr>\n",
              "      <th>2</th>\n",
              "      <td>4</td>\n",
              "      <td>4</td>\n",
              "      <td>2</td>\n",
              "      <td>-1</td>\n",
              "      <td>4</td>\n",
              "      <td>0</td>\n",
              "      <td>0</td>\n",
              "      <td>5</td>\n",
              "      <td>1</td>\n",
              "      <td>0</td>\n",
              "      <td>...</td>\n",
              "      <td>4</td>\n",
              "      <td>3</td>\n",
              "      <td>4</td>\n",
              "      <td>4</td>\n",
              "      <td>6</td>\n",
              "      <td>3</td>\n",
              "      <td>1</td>\n",
              "      <td>4</td>\n",
              "      <td>4</td>\n",
              "      <td>3</td>\n",
              "    </tr>\n",
              "    <tr>\n",
              "      <th>3</th>\n",
              "      <td>-4</td>\n",
              "      <td>2</td>\n",
              "      <td>6</td>\n",
              "      <td>0</td>\n",
              "      <td>0</td>\n",
              "      <td>2</td>\n",
              "      <td>4</td>\n",
              "      <td>2</td>\n",
              "      <td>0</td>\n",
              "      <td>4</td>\n",
              "      <td>...</td>\n",
              "      <td>0</td>\n",
              "      <td>-2</td>\n",
              "      <td>2</td>\n",
              "      <td>3</td>\n",
              "      <td>4</td>\n",
              "      <td>-4</td>\n",
              "      <td>4</td>\n",
              "      <td>2</td>\n",
              "      <td>1</td>\n",
              "      <td>2</td>\n",
              "    </tr>\n",
              "    <tr>\n",
              "      <th>4</th>\n",
              "      <td>1</td>\n",
              "      <td>9</td>\n",
              "      <td>1</td>\n",
              "      <td>3</td>\n",
              "      <td>-3</td>\n",
              "      <td>4</td>\n",
              "      <td>1</td>\n",
              "      <td>0</td>\n",
              "      <td>8</td>\n",
              "      <td>3</td>\n",
              "      <td>...</td>\n",
              "      <td>4</td>\n",
              "      <td>4</td>\n",
              "      <td>1</td>\n",
              "      <td>-4</td>\n",
              "      <td>0</td>\n",
              "      <td>4</td>\n",
              "      <td>0</td>\n",
              "      <td>0</td>\n",
              "      <td>2</td>\n",
              "      <td>-1</td>\n",
              "    </tr>\n",
              "  </tbody>\n",
              "</table>\n",
              "<p>5 rows × 500 columns</p>\n",
              "</div>\n",
              "      <button class=\"colab-df-convert\" onclick=\"convertToInteractive('df-a43cffd2-80fd-4c9e-8559-fe3c2a12420f')\"\n",
              "              title=\"Convert this dataframe to an interactive table.\"\n",
              "              style=\"display:none;\">\n",
              "        \n",
              "  <svg xmlns=\"http://www.w3.org/2000/svg\" height=\"24px\"viewBox=\"0 0 24 24\"\n",
              "       width=\"24px\">\n",
              "    <path d=\"M0 0h24v24H0V0z\" fill=\"none\"/>\n",
              "    <path d=\"M18.56 5.44l.94 2.06.94-2.06 2.06-.94-2.06-.94-.94-2.06-.94 2.06-2.06.94zm-11 1L8.5 8.5l.94-2.06 2.06-.94-2.06-.94L8.5 2.5l-.94 2.06-2.06.94zm10 10l.94 2.06.94-2.06 2.06-.94-2.06-.94-.94-2.06-.94 2.06-2.06.94z\"/><path d=\"M17.41 7.96l-1.37-1.37c-.4-.4-.92-.59-1.43-.59-.52 0-1.04.2-1.43.59L10.3 9.45l-7.72 7.72c-.78.78-.78 2.05 0 2.83L4 21.41c.39.39.9.59 1.41.59.51 0 1.02-.2 1.41-.59l7.78-7.78 2.81-2.81c.8-.78.8-2.07 0-2.86zM5.41 20L4 18.59l7.72-7.72 1.47 1.35L5.41 20z\"/>\n",
              "  </svg>\n",
              "      </button>\n",
              "      \n",
              "  <style>\n",
              "    .colab-df-container {\n",
              "      display:flex;\n",
              "      flex-wrap:wrap;\n",
              "      gap: 12px;\n",
              "    }\n",
              "\n",
              "    .colab-df-convert {\n",
              "      background-color: #E8F0FE;\n",
              "      border: none;\n",
              "      border-radius: 50%;\n",
              "      cursor: pointer;\n",
              "      display: none;\n",
              "      fill: #1967D2;\n",
              "      height: 32px;\n",
              "      padding: 0 0 0 0;\n",
              "      width: 32px;\n",
              "    }\n",
              "\n",
              "    .colab-df-convert:hover {\n",
              "      background-color: #E2EBFA;\n",
              "      box-shadow: 0px 1px 2px rgba(60, 64, 67, 0.3), 0px 1px 3px 1px rgba(60, 64, 67, 0.15);\n",
              "      fill: #174EA6;\n",
              "    }\n",
              "\n",
              "    [theme=dark] .colab-df-convert {\n",
              "      background-color: #3B4455;\n",
              "      fill: #D2E3FC;\n",
              "    }\n",
              "\n",
              "    [theme=dark] .colab-df-convert:hover {\n",
              "      background-color: #434B5C;\n",
              "      box-shadow: 0px 1px 3px 1px rgba(0, 0, 0, 0.15);\n",
              "      filter: drop-shadow(0px 1px 2px rgba(0, 0, 0, 0.3));\n",
              "      fill: #FFFFFF;\n",
              "    }\n",
              "  </style>\n",
              "\n",
              "      <script>\n",
              "        const buttonEl =\n",
              "          document.querySelector('#df-a43cffd2-80fd-4c9e-8559-fe3c2a12420f button.colab-df-convert');\n",
              "        buttonEl.style.display =\n",
              "          google.colab.kernel.accessAllowed ? 'block' : 'none';\n",
              "\n",
              "        async function convertToInteractive(key) {\n",
              "          const element = document.querySelector('#df-a43cffd2-80fd-4c9e-8559-fe3c2a12420f');\n",
              "          const dataTable =\n",
              "            await google.colab.kernel.invokeFunction('convertToInteractive',\n",
              "                                                     [key], {});\n",
              "          if (!dataTable) return;\n",
              "\n",
              "          const docLinkHtml = 'Like what you see? Visit the ' +\n",
              "            '<a target=\"_blank\" href=https://colab.research.google.com/notebooks/data_table.ipynb>data table notebook</a>'\n",
              "            + ' to learn more about interactive tables.';\n",
              "          element.innerHTML = '';\n",
              "          dataTable['output_type'] = 'display_data';\n",
              "          await google.colab.output.renderOutput(dataTable, element);\n",
              "          const docLink = document.createElement('div');\n",
              "          docLink.innerHTML = docLinkHtml;\n",
              "          element.appendChild(docLink);\n",
              "        }\n",
              "      </script>\n",
              "    </div>\n",
              "  </div>\n",
              "  "
            ]
          },
          "metadata": {},
          "execution_count": 537
        }
      ]
    },
    {
      "cell_type": "code",
      "source": [
        "dataset.info()"
      ],
      "metadata": {
        "colab": {
          "base_uri": "https://localhost:8080/"
        },
        "id": "TQgYEQ8PsKVR",
        "outputId": "d8c6451b-6eda-492d-fa34-a181e10801ab"
      },
      "execution_count": 538,
      "outputs": [
        {
          "output_type": "stream",
          "name": "stdout",
          "text": [
            "<class 'pandas.core.frame.DataFrame'>\n",
            "RangeIndex: 23479 entries, 0 to 23478\n",
            "Columns: 500 entries, 0 to 499\n",
            "dtypes: int64(500)\n",
            "memory usage: 89.6 MB\n"
          ]
        }
      ]
    },
    {
      "cell_type": "code",
      "source": [
        "dataset.T.describe()"
      ],
      "metadata": {
        "id": "xrawKPPsSBHQ"
      },
      "execution_count": null,
      "outputs": []
    },
    {
      "cell_type": "code",
      "source": [
        "array = range(1000, 1100)\n",
        "ax = dataset.T[:][140:200].plot(title='Signal', legend=None, figsize=(20,10))\n",
        "plt.show()"
      ],
      "metadata": {
        "id": "rwpy5M3lsf-y"
      },
      "execution_count": null,
      "outputs": []
    },
    {
      "cell_type": "code",
      "source": [
        "# x = 147 - начало сигнала\n",
        "# y = 12 - конец сигнала\n",
        "# y = 14824 - точка плато"
      ],
      "metadata": {
        "id": "W8q_sNgf3hKq"
      },
      "execution_count": 541,
      "outputs": []
    },
    {
      "cell_type": "markdown",
      "source": [
        "Создадим DataFrame с новыми фичами"
      ],
      "metadata": {
        "id": "6k6izbwpKmpN"
      }
    },
    {
      "cell_type": "code",
      "source": [
        "features = ['max', 'peak', 'start', 'finish', 'duration', 'increasing_duration',\\\n",
        "            'decreasing_duration']\n",
        "new_dataset = pd.DataFrame([], index=dataset.index, columns=features)"
      ],
      "metadata": {
        "id": "RId3lbZi6qXv"
      },
      "execution_count": 50,
      "outputs": []
    },
    {
      "cell_type": "markdown",
      "source": [
        "Будем строить фичи такими способами:\n",
        "* Началом сигнала будем считать момент резкого изменения значения\n",
        "* Концом сигнала будем считать преодоление порогового значения"
      ],
      "metadata": {
        "id": "D_4GHUsONaRG"
      }
    },
    {
      "cell_type": "code",
      "source": [
        "new_dataset['max'] = dataset.max(axis=1)\n",
        "new_dataset['peak'] = dataset.idxmax(axis=1)\n",
        "new_dataset['start'] = dataset[dataset.loc[:, 130:170]\\\n",
        "                       .diff(periods=1, axis='columns') > 80].idxmin(axis=1)\n",
        "new_dataset['start'].fillna(new_dataset['peak'], inplace=True)\n",
        "new_dataset['finish'] = dataset[dataset < 70].fillna(0).astype(bool)\\\n",
        "                        .loc[:, 150:499].idxmax(axis=1)\n",
        "new_dataset['duration'] = new_dataset['finish'] - new_dataset['start']\n",
        "new_dataset['increasing_duration'] = new_dataset['peak'] - new_dataset['start']\n",
        "new_dataset['decreasing_duration'] = new_dataset['finish'] - new_dataset['peak']"
      ],
      "metadata": {
        "id": "dpXCMGQSP6N2"
      },
      "execution_count": 153,
      "outputs": []
    },
    {
      "cell_type": "code",
      "source": [
        "# new_dataset = new_dataset[['max', 'increasing_duration', 'decreasing_duration']]"
      ],
      "metadata": {
        "id": "wC1jnmp95_G_"
      },
      "execution_count": 154,
      "outputs": []
    },
    {
      "cell_type": "code",
      "source": [
        "new_dataset.isna().sum()"
      ],
      "metadata": {
        "colab": {
          "base_uri": "https://localhost:8080/"
        },
        "id": "T0EoLgaQumKl",
        "outputId": "fc0357d1-c96d-453e-c33b-0dc42b729ebd"
      },
      "execution_count": 155,
      "outputs": [
        {
          "output_type": "execute_result",
          "data": {
            "text/plain": [
              "max                    0\n",
              "peak                   0\n",
              "start                  0\n",
              "finish                 0\n",
              "duration               0\n",
              "increasing_duration    0\n",
              "decreasing_duration    0\n",
              "dtype: int64"
            ]
          },
          "metadata": {},
          "execution_count": 155
        }
      ]
    },
    {
      "cell_type": "code",
      "source": [
        "new_dataset.describe()"
      ],
      "metadata": {
        "colab": {
          "base_uri": "https://localhost:8080/",
          "height": 300
        },
        "id": "KrsNiN_iiRrS",
        "outputId": "48314a9a-a680-4e50-f24a-373f1b624db0"
      },
      "execution_count": 156,
      "outputs": [
        {
          "output_type": "execute_result",
          "data": {
            "text/plain": [
              "                max          peak         start        finish      duration  \\\n",
              "count  23479.000000  23479.000000  23479.000000  23479.000000  23479.000000   \n",
              "mean    1836.138209    149.628604    147.198986    163.148132     15.949146   \n",
              "std     2389.308983      2.489996      0.590420     10.124480     10.001996   \n",
              "min      105.000000    145.000000    145.000000    150.000000      2.000000   \n",
              "25%      309.000000    149.000000    147.000000    155.000000      8.000000   \n",
              "50%      814.000000    150.000000    147.000000    161.000000     14.000000   \n",
              "75%     2316.000000    151.000000    148.000000    169.000000     21.000000   \n",
              "max    14824.000000    472.000000    150.000000    218.000000     71.000000   \n",
              "\n",
              "       increasing_duration  decreasing_duration  \n",
              "count         23479.000000         23479.000000  \n",
              "mean              2.429618            13.519528  \n",
              "std               2.445482             9.369789  \n",
              "min               0.000000          -316.000000  \n",
              "25%               2.000000             7.000000  \n",
              "50%               3.000000            11.000000  \n",
              "75%               3.000000            18.000000  \n",
              "max             325.000000            67.000000  "
            ],
            "text/html": [
              "\n",
              "  <div id=\"df-d3622ffb-6227-4974-a85d-a08d1102ce76\">\n",
              "    <div class=\"colab-df-container\">\n",
              "      <div>\n",
              "<style scoped>\n",
              "    .dataframe tbody tr th:only-of-type {\n",
              "        vertical-align: middle;\n",
              "    }\n",
              "\n",
              "    .dataframe tbody tr th {\n",
              "        vertical-align: top;\n",
              "    }\n",
              "\n",
              "    .dataframe thead th {\n",
              "        text-align: right;\n",
              "    }\n",
              "</style>\n",
              "<table border=\"1\" class=\"dataframe\">\n",
              "  <thead>\n",
              "    <tr style=\"text-align: right;\">\n",
              "      <th></th>\n",
              "      <th>max</th>\n",
              "      <th>peak</th>\n",
              "      <th>start</th>\n",
              "      <th>finish</th>\n",
              "      <th>duration</th>\n",
              "      <th>increasing_duration</th>\n",
              "      <th>decreasing_duration</th>\n",
              "    </tr>\n",
              "  </thead>\n",
              "  <tbody>\n",
              "    <tr>\n",
              "      <th>count</th>\n",
              "      <td>23479.000000</td>\n",
              "      <td>23479.000000</td>\n",
              "      <td>23479.000000</td>\n",
              "      <td>23479.000000</td>\n",
              "      <td>23479.000000</td>\n",
              "      <td>23479.000000</td>\n",
              "      <td>23479.000000</td>\n",
              "    </tr>\n",
              "    <tr>\n",
              "      <th>mean</th>\n",
              "      <td>1836.138209</td>\n",
              "      <td>149.628604</td>\n",
              "      <td>147.198986</td>\n",
              "      <td>163.148132</td>\n",
              "      <td>15.949146</td>\n",
              "      <td>2.429618</td>\n",
              "      <td>13.519528</td>\n",
              "    </tr>\n",
              "    <tr>\n",
              "      <th>std</th>\n",
              "      <td>2389.308983</td>\n",
              "      <td>2.489996</td>\n",
              "      <td>0.590420</td>\n",
              "      <td>10.124480</td>\n",
              "      <td>10.001996</td>\n",
              "      <td>2.445482</td>\n",
              "      <td>9.369789</td>\n",
              "    </tr>\n",
              "    <tr>\n",
              "      <th>min</th>\n",
              "      <td>105.000000</td>\n",
              "      <td>145.000000</td>\n",
              "      <td>145.000000</td>\n",
              "      <td>150.000000</td>\n",
              "      <td>2.000000</td>\n",
              "      <td>0.000000</td>\n",
              "      <td>-316.000000</td>\n",
              "    </tr>\n",
              "    <tr>\n",
              "      <th>25%</th>\n",
              "      <td>309.000000</td>\n",
              "      <td>149.000000</td>\n",
              "      <td>147.000000</td>\n",
              "      <td>155.000000</td>\n",
              "      <td>8.000000</td>\n",
              "      <td>2.000000</td>\n",
              "      <td>7.000000</td>\n",
              "    </tr>\n",
              "    <tr>\n",
              "      <th>50%</th>\n",
              "      <td>814.000000</td>\n",
              "      <td>150.000000</td>\n",
              "      <td>147.000000</td>\n",
              "      <td>161.000000</td>\n",
              "      <td>14.000000</td>\n",
              "      <td>3.000000</td>\n",
              "      <td>11.000000</td>\n",
              "    </tr>\n",
              "    <tr>\n",
              "      <th>75%</th>\n",
              "      <td>2316.000000</td>\n",
              "      <td>151.000000</td>\n",
              "      <td>148.000000</td>\n",
              "      <td>169.000000</td>\n",
              "      <td>21.000000</td>\n",
              "      <td>3.000000</td>\n",
              "      <td>18.000000</td>\n",
              "    </tr>\n",
              "    <tr>\n",
              "      <th>max</th>\n",
              "      <td>14824.000000</td>\n",
              "      <td>472.000000</td>\n",
              "      <td>150.000000</td>\n",
              "      <td>218.000000</td>\n",
              "      <td>71.000000</td>\n",
              "      <td>325.000000</td>\n",
              "      <td>67.000000</td>\n",
              "    </tr>\n",
              "  </tbody>\n",
              "</table>\n",
              "</div>\n",
              "      <button class=\"colab-df-convert\" onclick=\"convertToInteractive('df-d3622ffb-6227-4974-a85d-a08d1102ce76')\"\n",
              "              title=\"Convert this dataframe to an interactive table.\"\n",
              "              style=\"display:none;\">\n",
              "        \n",
              "  <svg xmlns=\"http://www.w3.org/2000/svg\" height=\"24px\"viewBox=\"0 0 24 24\"\n",
              "       width=\"24px\">\n",
              "    <path d=\"M0 0h24v24H0V0z\" fill=\"none\"/>\n",
              "    <path d=\"M18.56 5.44l.94 2.06.94-2.06 2.06-.94-2.06-.94-.94-2.06-.94 2.06-2.06.94zm-11 1L8.5 8.5l.94-2.06 2.06-.94-2.06-.94L8.5 2.5l-.94 2.06-2.06.94zm10 10l.94 2.06.94-2.06 2.06-.94-2.06-.94-.94-2.06-.94 2.06-2.06.94z\"/><path d=\"M17.41 7.96l-1.37-1.37c-.4-.4-.92-.59-1.43-.59-.52 0-1.04.2-1.43.59L10.3 9.45l-7.72 7.72c-.78.78-.78 2.05 0 2.83L4 21.41c.39.39.9.59 1.41.59.51 0 1.02-.2 1.41-.59l7.78-7.78 2.81-2.81c.8-.78.8-2.07 0-2.86zM5.41 20L4 18.59l7.72-7.72 1.47 1.35L5.41 20z\"/>\n",
              "  </svg>\n",
              "      </button>\n",
              "      \n",
              "  <style>\n",
              "    .colab-df-container {\n",
              "      display:flex;\n",
              "      flex-wrap:wrap;\n",
              "      gap: 12px;\n",
              "    }\n",
              "\n",
              "    .colab-df-convert {\n",
              "      background-color: #E8F0FE;\n",
              "      border: none;\n",
              "      border-radius: 50%;\n",
              "      cursor: pointer;\n",
              "      display: none;\n",
              "      fill: #1967D2;\n",
              "      height: 32px;\n",
              "      padding: 0 0 0 0;\n",
              "      width: 32px;\n",
              "    }\n",
              "\n",
              "    .colab-df-convert:hover {\n",
              "      background-color: #E2EBFA;\n",
              "      box-shadow: 0px 1px 2px rgba(60, 64, 67, 0.3), 0px 1px 3px 1px rgba(60, 64, 67, 0.15);\n",
              "      fill: #174EA6;\n",
              "    }\n",
              "\n",
              "    [theme=dark] .colab-df-convert {\n",
              "      background-color: #3B4455;\n",
              "      fill: #D2E3FC;\n",
              "    }\n",
              "\n",
              "    [theme=dark] .colab-df-convert:hover {\n",
              "      background-color: #434B5C;\n",
              "      box-shadow: 0px 1px 3px 1px rgba(0, 0, 0, 0.15);\n",
              "      filter: drop-shadow(0px 1px 2px rgba(0, 0, 0, 0.3));\n",
              "      fill: #FFFFFF;\n",
              "    }\n",
              "  </style>\n",
              "\n",
              "      <script>\n",
              "        const buttonEl =\n",
              "          document.querySelector('#df-d3622ffb-6227-4974-a85d-a08d1102ce76 button.colab-df-convert');\n",
              "        buttonEl.style.display =\n",
              "          google.colab.kernel.accessAllowed ? 'block' : 'none';\n",
              "\n",
              "        async function convertToInteractive(key) {\n",
              "          const element = document.querySelector('#df-d3622ffb-6227-4974-a85d-a08d1102ce76');\n",
              "          const dataTable =\n",
              "            await google.colab.kernel.invokeFunction('convertToInteractive',\n",
              "                                                     [key], {});\n",
              "          if (!dataTable) return;\n",
              "\n",
              "          const docLinkHtml = 'Like what you see? Visit the ' +\n",
              "            '<a target=\"_blank\" href=https://colab.research.google.com/notebooks/data_table.ipynb>data table notebook</a>'\n",
              "            + ' to learn more about interactive tables.';\n",
              "          element.innerHTML = '';\n",
              "          dataTable['output_type'] = 'display_data';\n",
              "          await google.colab.output.renderOutput(dataTable, element);\n",
              "          const docLink = document.createElement('div');\n",
              "          docLink.innerHTML = docLinkHtml;\n",
              "          element.appendChild(docLink);\n",
              "        }\n",
              "      </script>\n",
              "    </div>\n",
              "  </div>\n",
              "  "
            ]
          },
          "metadata": {},
          "execution_count": 156
        }
      ]
    },
    {
      "cell_type": "markdown",
      "source": [
        "Фильтрация сигналов, максимальное значение которых превышает регистрируемое"
      ],
      "metadata": {
        "id": "JUJmdpe6JptE"
      }
    },
    {
      "cell_type": "code",
      "source": [
        "plato_filtering = dataset[dataset.max(axis=1) == 14824]\n",
        "# ax = plato_filtering.T.plot(title='Signal', legend=None, figsize=(20,10))\n",
        "# plt.show()"
      ],
      "metadata": {
        "id": "4hRU9bb0JkA8"
      },
      "execution_count": 55,
      "outputs": []
    },
    {
      "cell_type": "markdown",
      "source": [
        "Фильтрация сигналов с двумя всплесками"
      ],
      "metadata": {
        "id": "ACwCD3RNJe59"
      }
    },
    {
      "cell_type": "code",
      "source": [
        "improper_filtering = dataset[dataset.loc[:, 250:500].max(axis=1) > 100]\n",
        "# ax = improper_filtering.T.plot(title='Signal', legend=None, figsize=(20,10))\n",
        "# plt.show()"
      ],
      "metadata": {
        "id": "GXULpZNfFlch"
      },
      "execution_count": 56,
      "outputs": []
    },
    {
      "cell_type": "markdown",
      "source": [
        "Удалим сигналы, которые не можем идентифицировать"
      ],
      "metadata": {
        "id": "NKCuLRW5sEZS"
      }
    },
    {
      "cell_type": "code",
      "source": [
        "undetectable = plato_filtering.index.tolist() + improper_filtering.index.tolist()\n",
        "undetectable"
      ],
      "metadata": {
        "colab": {
          "base_uri": "https://localhost:8080/"
        },
        "id": "b362kCPjrFo7",
        "outputId": "fd10cd29-6842-4a90-d20b-0d158a211cb0"
      },
      "execution_count": 57,
      "outputs": [
        {
          "output_type": "execute_result",
          "data": {
            "text/plain": [
              "[798, 6401, 9190, 9553, 11289, 13595, 17790, 22310, 23118, 1929, 6288]"
            ]
          },
          "metadata": {},
          "execution_count": 57
        }
      ]
    },
    {
      "cell_type": "code",
      "source": [
        "processed_dataset = new_dataset.drop(undetectable)"
      ],
      "metadata": {
        "id": "lJnoHmB9rbYa"
      },
      "execution_count": 157,
      "outputs": []
    },
    {
      "cell_type": "code",
      "source": [
        "processed_dataset.describe()"
      ],
      "metadata": {
        "colab": {
          "base_uri": "https://localhost:8080/",
          "height": 300
        },
        "id": "-Uvzw0dRPOLq",
        "outputId": "5689f0d6-e12a-4c2a-dae5-c014a8583dac"
      },
      "execution_count": 158,
      "outputs": [
        {
          "output_type": "execute_result",
          "data": {
            "text/plain": [
              "                max          peak         start        finish      duration  \\\n",
              "count  23468.000000  23468.000000  23468.000000  23468.000000  23468.000000   \n",
              "mean    1830.964931    149.614070    147.198909    163.137379     15.938469   \n",
              "std     2376.006251      1.331423      0.590456     10.111968      9.989437   \n",
              "min      105.000000    145.000000    145.000000    150.000000      2.000000   \n",
              "25%      309.000000    149.000000    147.000000    155.000000      8.000000   \n",
              "50%      813.000000    150.000000    147.000000    161.000000     14.000000   \n",
              "75%     2314.000000    151.000000    148.000000    169.000000     21.000000   \n",
              "max    14772.000000    152.000000    150.000000    218.000000     71.000000   \n",
              "\n",
              "       increasing_duration  decreasing_duration  \n",
              "count         23468.000000         23468.000000  \n",
              "mean              2.415161            13.523308  \n",
              "std               1.244070             9.107569  \n",
              "min               0.000000             2.000000  \n",
              "25%               2.000000             7.000000  \n",
              "50%               3.000000            11.000000  \n",
              "75%               3.000000            18.000000  \n",
              "max               5.000000            67.000000  "
            ],
            "text/html": [
              "\n",
              "  <div id=\"df-f7f2424e-c59f-4cf8-b59f-46eff2e61e06\">\n",
              "    <div class=\"colab-df-container\">\n",
              "      <div>\n",
              "<style scoped>\n",
              "    .dataframe tbody tr th:only-of-type {\n",
              "        vertical-align: middle;\n",
              "    }\n",
              "\n",
              "    .dataframe tbody tr th {\n",
              "        vertical-align: top;\n",
              "    }\n",
              "\n",
              "    .dataframe thead th {\n",
              "        text-align: right;\n",
              "    }\n",
              "</style>\n",
              "<table border=\"1\" class=\"dataframe\">\n",
              "  <thead>\n",
              "    <tr style=\"text-align: right;\">\n",
              "      <th></th>\n",
              "      <th>max</th>\n",
              "      <th>peak</th>\n",
              "      <th>start</th>\n",
              "      <th>finish</th>\n",
              "      <th>duration</th>\n",
              "      <th>increasing_duration</th>\n",
              "      <th>decreasing_duration</th>\n",
              "    </tr>\n",
              "  </thead>\n",
              "  <tbody>\n",
              "    <tr>\n",
              "      <th>count</th>\n",
              "      <td>23468.000000</td>\n",
              "      <td>23468.000000</td>\n",
              "      <td>23468.000000</td>\n",
              "      <td>23468.000000</td>\n",
              "      <td>23468.000000</td>\n",
              "      <td>23468.000000</td>\n",
              "      <td>23468.000000</td>\n",
              "    </tr>\n",
              "    <tr>\n",
              "      <th>mean</th>\n",
              "      <td>1830.964931</td>\n",
              "      <td>149.614070</td>\n",
              "      <td>147.198909</td>\n",
              "      <td>163.137379</td>\n",
              "      <td>15.938469</td>\n",
              "      <td>2.415161</td>\n",
              "      <td>13.523308</td>\n",
              "    </tr>\n",
              "    <tr>\n",
              "      <th>std</th>\n",
              "      <td>2376.006251</td>\n",
              "      <td>1.331423</td>\n",
              "      <td>0.590456</td>\n",
              "      <td>10.111968</td>\n",
              "      <td>9.989437</td>\n",
              "      <td>1.244070</td>\n",
              "      <td>9.107569</td>\n",
              "    </tr>\n",
              "    <tr>\n",
              "      <th>min</th>\n",
              "      <td>105.000000</td>\n",
              "      <td>145.000000</td>\n",
              "      <td>145.000000</td>\n",
              "      <td>150.000000</td>\n",
              "      <td>2.000000</td>\n",
              "      <td>0.000000</td>\n",
              "      <td>2.000000</td>\n",
              "    </tr>\n",
              "    <tr>\n",
              "      <th>25%</th>\n",
              "      <td>309.000000</td>\n",
              "      <td>149.000000</td>\n",
              "      <td>147.000000</td>\n",
              "      <td>155.000000</td>\n",
              "      <td>8.000000</td>\n",
              "      <td>2.000000</td>\n",
              "      <td>7.000000</td>\n",
              "    </tr>\n",
              "    <tr>\n",
              "      <th>50%</th>\n",
              "      <td>813.000000</td>\n",
              "      <td>150.000000</td>\n",
              "      <td>147.000000</td>\n",
              "      <td>161.000000</td>\n",
              "      <td>14.000000</td>\n",
              "      <td>3.000000</td>\n",
              "      <td>11.000000</td>\n",
              "    </tr>\n",
              "    <tr>\n",
              "      <th>75%</th>\n",
              "      <td>2314.000000</td>\n",
              "      <td>151.000000</td>\n",
              "      <td>148.000000</td>\n",
              "      <td>169.000000</td>\n",
              "      <td>21.000000</td>\n",
              "      <td>3.000000</td>\n",
              "      <td>18.000000</td>\n",
              "    </tr>\n",
              "    <tr>\n",
              "      <th>max</th>\n",
              "      <td>14772.000000</td>\n",
              "      <td>152.000000</td>\n",
              "      <td>150.000000</td>\n",
              "      <td>218.000000</td>\n",
              "      <td>71.000000</td>\n",
              "      <td>5.000000</td>\n",
              "      <td>67.000000</td>\n",
              "    </tr>\n",
              "  </tbody>\n",
              "</table>\n",
              "</div>\n",
              "      <button class=\"colab-df-convert\" onclick=\"convertToInteractive('df-f7f2424e-c59f-4cf8-b59f-46eff2e61e06')\"\n",
              "              title=\"Convert this dataframe to an interactive table.\"\n",
              "              style=\"display:none;\">\n",
              "        \n",
              "  <svg xmlns=\"http://www.w3.org/2000/svg\" height=\"24px\"viewBox=\"0 0 24 24\"\n",
              "       width=\"24px\">\n",
              "    <path d=\"M0 0h24v24H0V0z\" fill=\"none\"/>\n",
              "    <path d=\"M18.56 5.44l.94 2.06.94-2.06 2.06-.94-2.06-.94-.94-2.06-.94 2.06-2.06.94zm-11 1L8.5 8.5l.94-2.06 2.06-.94-2.06-.94L8.5 2.5l-.94 2.06-2.06.94zm10 10l.94 2.06.94-2.06 2.06-.94-2.06-.94-.94-2.06-.94 2.06-2.06.94z\"/><path d=\"M17.41 7.96l-1.37-1.37c-.4-.4-.92-.59-1.43-.59-.52 0-1.04.2-1.43.59L10.3 9.45l-7.72 7.72c-.78.78-.78 2.05 0 2.83L4 21.41c.39.39.9.59 1.41.59.51 0 1.02-.2 1.41-.59l7.78-7.78 2.81-2.81c.8-.78.8-2.07 0-2.86zM5.41 20L4 18.59l7.72-7.72 1.47 1.35L5.41 20z\"/>\n",
              "  </svg>\n",
              "      </button>\n",
              "      \n",
              "  <style>\n",
              "    .colab-df-container {\n",
              "      display:flex;\n",
              "      flex-wrap:wrap;\n",
              "      gap: 12px;\n",
              "    }\n",
              "\n",
              "    .colab-df-convert {\n",
              "      background-color: #E8F0FE;\n",
              "      border: none;\n",
              "      border-radius: 50%;\n",
              "      cursor: pointer;\n",
              "      display: none;\n",
              "      fill: #1967D2;\n",
              "      height: 32px;\n",
              "      padding: 0 0 0 0;\n",
              "      width: 32px;\n",
              "    }\n",
              "\n",
              "    .colab-df-convert:hover {\n",
              "      background-color: #E2EBFA;\n",
              "      box-shadow: 0px 1px 2px rgba(60, 64, 67, 0.3), 0px 1px 3px 1px rgba(60, 64, 67, 0.15);\n",
              "      fill: #174EA6;\n",
              "    }\n",
              "\n",
              "    [theme=dark] .colab-df-convert {\n",
              "      background-color: #3B4455;\n",
              "      fill: #D2E3FC;\n",
              "    }\n",
              "\n",
              "    [theme=dark] .colab-df-convert:hover {\n",
              "      background-color: #434B5C;\n",
              "      box-shadow: 0px 1px 3px 1px rgba(0, 0, 0, 0.15);\n",
              "      filter: drop-shadow(0px 1px 2px rgba(0, 0, 0, 0.3));\n",
              "      fill: #FFFFFF;\n",
              "    }\n",
              "  </style>\n",
              "\n",
              "      <script>\n",
              "        const buttonEl =\n",
              "          document.querySelector('#df-f7f2424e-c59f-4cf8-b59f-46eff2e61e06 button.colab-df-convert');\n",
              "        buttonEl.style.display =\n",
              "          google.colab.kernel.accessAllowed ? 'block' : 'none';\n",
              "\n",
              "        async function convertToInteractive(key) {\n",
              "          const element = document.querySelector('#df-f7f2424e-c59f-4cf8-b59f-46eff2e61e06');\n",
              "          const dataTable =\n",
              "            await google.colab.kernel.invokeFunction('convertToInteractive',\n",
              "                                                     [key], {});\n",
              "          if (!dataTable) return;\n",
              "\n",
              "          const docLinkHtml = 'Like what you see? Visit the ' +\n",
              "            '<a target=\"_blank\" href=https://colab.research.google.com/notebooks/data_table.ipynb>data table notebook</a>'\n",
              "            + ' to learn more about interactive tables.';\n",
              "          element.innerHTML = '';\n",
              "          dataTable['output_type'] = 'display_data';\n",
              "          await google.colab.output.renderOutput(dataTable, element);\n",
              "          const docLink = document.createElement('div');\n",
              "          docLink.innerHTML = docLinkHtml;\n",
              "          element.appendChild(docLink);\n",
              "        }\n",
              "      </script>\n",
              "    </div>\n",
              "  </div>\n",
              "  "
            ]
          },
          "metadata": {},
          "execution_count": 158
        }
      ]
    },
    {
      "cell_type": "markdown",
      "source": [
        "#Рассмотрим подходы"
      ],
      "metadata": {
        "id": "g6ezgLHJsUE_"
      }
    },
    {
      "cell_type": "code",
      "source": [
        "current_dataset = processed_dataset"
      ],
      "metadata": {
        "id": "uY6tSJLWJWvu"
      },
      "execution_count": 176,
      "outputs": []
    },
    {
      "cell_type": "markdown",
      "source": [
        "## Попробуем нормализовать фичи"
      ],
      "metadata": {
        "id": "dr3xQxFg72N9"
      }
    },
    {
      "cell_type": "code",
      "source": [
        "from sklearn.preprocessing import MinMaxScaler"
      ],
      "metadata": {
        "id": "DkDnjypLkL-b"
      },
      "execution_count": 31,
      "outputs": []
    },
    {
      "cell_type": "code",
      "source": [
        "def normalize_dataset(dataset):\n",
        "  normalized_dataset = pd.DataFrame(MinMaxScaler(feature_range=(0, 1)).fit_transform(processed_dataset), columns=processed_dataset.columns)\n",
        "  return normalized_dataset"
      ],
      "metadata": {
        "id": "PHJugacGjLiQ"
      },
      "execution_count": 32,
      "outputs": []
    },
    {
      "cell_type": "code",
      "source": [
        "normalized_dataset = normalize_dataset(processed_dataset)"
      ],
      "metadata": {
        "id": "o455sU2HklYM"
      },
      "execution_count": 33,
      "outputs": []
    },
    {
      "cell_type": "code",
      "source": [
        "from sklearn.metrics import silhouette_score"
      ],
      "metadata": {
        "id": "xbs4gpSBtWvZ"
      },
      "execution_count": 15,
      "outputs": []
    },
    {
      "cell_type": "markdown",
      "source": [
        "## AgglomerativeClustering"
      ],
      "metadata": {
        "id": "5Ev5dgYr-eZa"
      }
    },
    {
      "cell_type": "code",
      "source": [
        "from sklearn.cluster import AgglomerativeClustering"
      ],
      "metadata": {
        "id": "DWYYNrmO-dCZ"
      },
      "execution_count": 96,
      "outputs": []
    },
    {
      "cell_type": "code",
      "source": [
        "model_agglomerative = AgglomerativeClustering(n_clusters=2)\n",
        "# predictions = model_agglomerative.fit_predict(current_dataset)"
      ],
      "metadata": {
        "id": "tSjCIAXV-qB9"
      },
      "execution_count": 97,
      "outputs": []
    },
    {
      "cell_type": "code",
      "source": [
        "score = silhouette_score(current_dataset, predictions)\n",
        "score"
      ],
      "metadata": {
        "colab": {
          "base_uri": "https://localhost:8080/"
        },
        "id": "cVb2mC2g_uOL",
        "outputId": "62456a97-cd74-42a7-9a56-90d52d0d4181"
      },
      "execution_count": 134,
      "outputs": [
        {
          "output_type": "execute_result",
          "data": {
            "text/plain": [
              "0.0029636038457964585"
            ]
          },
          "metadata": {},
          "execution_count": 134
        }
      ]
    },
    {
      "cell_type": "markdown",
      "source": [
        "##K-Means"
      ],
      "metadata": {
        "id": "huI2ktxFsV7r"
      }
    },
    {
      "cell_type": "code",
      "source": [
        "from sklearn.cluster import KMeans"
      ],
      "metadata": {
        "id": "sIWODIBbsXnS"
      },
      "execution_count": 17,
      "outputs": []
    },
    {
      "cell_type": "code",
      "source": [
        "model_kmeans = KMeans(n_clusters=2, max_iter=5000, random_state=42)\n",
        "# predictions = model_kmeans.fit_predict(current_dataset)"
      ],
      "metadata": {
        "id": "Te-ZwRHNsb7n"
      },
      "execution_count": 100,
      "outputs": []
    },
    {
      "cell_type": "code",
      "source": [
        "score = silhouette_score(current_dataset, predictions)\n",
        "score"
      ],
      "metadata": {
        "colab": {
          "base_uri": "https://localhost:8080/"
        },
        "id": "r68JfA2rtLak",
        "outputId": "2dfbdb22-016d-408e-c0dc-37b8aed0becf"
      },
      "execution_count": 101,
      "outputs": [
        {
          "output_type": "execute_result",
          "data": {
            "text/plain": [
              "0.6356343698130337"
            ]
          },
          "metadata": {},
          "execution_count": 101
        }
      ]
    },
    {
      "cell_type": "markdown",
      "source": [
        "## Попробуем \"ручками\""
      ],
      "metadata": {
        "id": "IDctVnguMjil"
      }
    },
    {
      "cell_type": "code",
      "source": [
        "fig, ax = plt.subplots()\n",
        "\n",
        "ax.scatter(processed_dataset['decreasing_duration'],\\\n",
        "           processed_dataset['max'], c = 'purple', )\n",
        "x = range(0, 50)\n",
        "y = [i*i*8 for i in x]\n",
        "ax.plot(x, y, c = 'cyan')\n",
        "plt.show()"
      ],
      "metadata": {
        "colab": {
          "base_uri": "https://localhost:8080/",
          "height": 268
        },
        "id": "MMbS__GH9iqT",
        "outputId": "2edb7064-75c5-48fb-ef0f-ce30f395ea15"
      },
      "execution_count": 174,
      "outputs": [
        {
          "output_type": "display_data",
          "data": {
            "text/plain": [
              "<Figure size 432x288 with 1 Axes>"
            ],
            "image/png": "[encoded data removed]"
          },
          "metadata": {
            "needs_background": "light"
          }
        }
      ]
    },
    {
      "cell_type": "code",
      "source": [
        "xs = current_dataset['decreasing_duration']\n",
        "ys = current_dataset['max']\n",
        "predictions = (xs*xs*8 > ys).astype(int)"
      ],
      "metadata": {
        "id": "sHSOCD9jGHcF"
      },
      "execution_count": 168,
      "outputs": []
    },
    {
      "cell_type": "code",
      "source": [
        "plt.scatter(current_dataset[predictions == 1]['decreasing_duration'], current_dataset[predictions == 1]['max'], c='blue')\n",
        "plt.scatter(current_dataset[predictions == 0]['decreasing_duration'], current_dataset[predictions == 0]['max'], c='purple')\n",
        "plt.show()"
      ],
      "metadata": {
        "colab": {
          "base_uri": "https://localhost:8080/",
          "height": 265
        },
        "id": "1ID88dBODc5F",
        "outputId": "99ecc928-166a-4ab2-8969-aac74c3ff77f"
      },
      "execution_count": 169,
      "outputs": [
        {
          "output_type": "display_data",
          "data": {
            "text/plain": [
              "<Figure size 432x288 with 1 Axes>"
            ],
            "image/png": "[encoded data removed]"
          },
          "metadata": {
            "needs_background": "light"
          }
        }
      ]
    },
    {
      "cell_type": "markdown",
      "source": [
        "Заметим интересный score - на Kaggle 0.77 :)"
      ],
      "metadata": {
        "id": "HtWPCw7mMus4"
      }
    },
    {
      "cell_type": "code",
      "source": [
        "score = silhouette_score(current_dataset, predictions)"
      ],
      "metadata": {
        "id": "f9IvSBx5Mzv3"
      },
      "execution_count": null,
      "outputs": []
    },
    {
      "cell_type": "markdown",
      "source": [
        "## Попробуем ручками 2.0"
      ],
      "metadata": {
        "id": "Soj3kdGDOZgh"
      }
    },
    {
      "cell_type": "code",
      "source": [
        "fig, ax = plt.subplots()\n",
        "\n",
        "ax.scatter(processed_dataset['decreasing_duration'], [0]*processed_dataset['decreasing_duration'].shape[0], c = 'purple', )\n",
        "plt.show()"
      ],
      "metadata": {
        "colab": {
          "base_uri": "https://localhost:8080/",
          "height": 265
        },
        "id": "AkGj6ZP4OeOI",
        "outputId": "68e527bd-a730-4933-8498-33a049d40834"
      },
      "execution_count": 170,
      "outputs": [
        {
          "output_type": "display_data",
          "data": {
            "text/plain": [
              "<Figure size 432x288 with 1 Axes>"
            ],
            "image/png": "[encoded data removed]"
          },
          "metadata": {
            "needs_background": "light"
          }
        }
      ]
    },
    {
      "cell_type": "markdown",
      "source": [
        "# Подготовка результата"
      ],
      "metadata": {
        "id": "DVk1AYYMu-l6"
      }
    },
    {
      "cell_type": "code",
      "source": [
        "result = get_result(predictions)"
      ],
      "metadata": {
        "colab": {
          "base_uri": "https://localhost:8080/",
          "height": 17
        },
        "id": "PAqGrEQ8xDpF",
        "outputId": "2fbf4a4d-8028-41ae-b8af-2bf557eec937"
      },
      "execution_count": 171,
      "outputs": [
        {
          "output_type": "display_data",
          "data": {
            "text/plain": [
              "<IPython.core.display.Javascript object>"
            ],
            "application/javascript": [
              "\n",
              "    async function download(id, filename, size) {\n",
              "      if (!google.colab.kernel.accessAllowed) {\n",
              "        return;\n",
              "      }\n",
              "      const div = document.createElement('div');\n",
              "      const label = document.createElement('label');\n",
              "      label.textContent = `Downloading \"${filename}\": `;\n",
              "      div.appendChild(label);\n",
              "      const progress = document.createElement('progress');\n",
              "      progress.max = size;\n",
              "      div.appendChild(progress);\n",
              "      document.body.appendChild(div);\n",
              "\n",
              "      const buffers = [];\n",
              "      let downloaded = 0;\n",
              "\n",
              "      const channel = await google.colab.kernel.comms.open(id);\n",
              "      // Send a message to notify the kernel that we're ready.\n",
              "      channel.send({})\n",
              "\n",
              "      for await (const message of channel.messages) {\n",
              "        // Send a message to notify the kernel that we're ready.\n",
              "        channel.send({})\n",
              "        if (message.buffers) {\n",
              "          for (const buffer of message.buffers) {\n",
              "            buffers.push(buffer);\n",
              "            downloaded += buffer.byteLength;\n",
              "            progress.value = downloaded;\n",
              "          }\n",
              "        }\n",
              "      }\n",
              "      const blob = new Blob(buffers, {type: 'application/binary'});\n",
              "      const a = document.createElement('a');\n",
              "      a.href = window.URL.createObjectURL(blob);\n",
              "      a.download = filename;\n",
              "      div.appendChild(a);\n",
              "      a.click();\n",
              "      div.remove();\n",
              "    }\n",
              "  "
            ]
          },
          "metadata": {}
        },
        {
          "output_type": "display_data",
          "data": {
            "text/plain": [
              "<IPython.core.display.Javascript object>"
            ],
            "application/javascript": [
              "download(\"download_5acf9079-52c5-4060-929f-20fd0a54de8e\", \"result.csv\", 176736)"
            ]
          },
          "metadata": {}
        }
      ]
    },
    {
      "cell_type": "code",
      "source": [
        "def get_result(predictions):\n",
        "  result = pd.DataFrame(predictions, index=current_dataset.index, columns=['cluster'])\n",
        "  result = result.append(pd.DataFrame([2]*len(undetectable), index=undetectable, columns=['cluster']))\n",
        "  result.sort_index(inplace=True)\n",
        "  result['index'] = result.index\n",
        "  result.sort_index(axis=1, inplace=True, ascending=False)\n",
        "\n",
        "  predictions_values = result['cluster'].unique()\n",
        "  dictionary = {predictions_values[i]: i for i in range(len(predictions_values))}\n",
        "  result['cluster'] = result['cluster'].map(dictionary)\n",
        "\n",
        "  result.to_csv('result.csv', index=False)\n",
        "  files.download('result.csv')\n",
        "  return result"
      ],
      "metadata": {
        "id": "BcWYKbuZvy1E"
      },
      "execution_count": 20,
      "outputs": []
    }
  ]
}