{
  "nbformat": 4,
  "nbformat_minor": 0,
  "metadata": {
    "colab": {
      "name": "control_test.ipynb",
      "provenance": [],
      "collapsed_sections": []
    },
    "kernelspec": {
      "name": "python3",
      "display_name": "Python 3"
    },
    "language_info": {
      "name": "python"
    }
  },
  "cells": [
    {
      "cell_type": "code",
      "source": [
        "import numpy as np\n",
        "import pandas as pd\n",
        "import sys"
      ],
      "metadata": {
        "id": "bhwDPuVP46vS"
      },
      "execution_count": null,
      "outputs": []
    },
    {
      "cell_type": "code",
      "source": [
        "#TASK 1\n",
        "dictionary = {}\n",
        "string = input()\n",
        "\n",
        "for i in range(len(string)-1):\n",
        "  if string[i]+string[i+1] in dictionary:\n",
        "    dictionary[string[i]+string[i+1]] += 1\n",
        "  else:\n",
        "    dictionary[string[i]+string[i+1]] = 1\n",
        "\n",
        "df = pd.DataFrame(data=dictionary, index=[0])\n",
        "df = df.sort_index()\n",
        "ans = df.idxmax(axis=1, skipna=True)\n",
        "print(ans[0])"
      ],
      "metadata": {
        "id": "x2hilOrOCiAw"
      },
      "execution_count": null,
      "outputs": []
    },
    {
      "cell_type": "code",
      "source": [
        "#TASK 2\n",
        "k = int(input())\n",
        "matrix = np.loadtxt(sys.stdin, dtype=int)\n",
        "Oind = np.array([[0]*matrix.shape[1]])\n",
        "\n",
        "while(matrix.shape[0] % k != 0):\n",
        "    matrix = np.insert(matrix, matrix.shape[0], values = Oind, axis=0)\n",
        "\n",
        "Ocol = np.array([[0]*matrix.shape[0]])\n",
        "\n",
        "while(matrix.shape[1] % k != 0):\n",
        "    matrix = np.insert(matrix, matrix.shape[1], values=Ocol, axis=1)\n",
        "\n",
        "for i in range(matrix.shape[0] // k):\n",
        "    for j in range(matrix.shape[1] // k):\n",
        "        print(matrix[i*k:i*k+k, j*k:j*k+k].sum(), end=' ')\n",
        "    print()"
      ],
      "metadata": {
        "id": "zFxxX584EUGD",
        "colab": {
          "base_uri": "https://localhost:8080/"
        },
        "outputId": "7538f7a6-cf8d-437a-ab6a-f0321c6238f8"
      },
      "execution_count": null,
      "outputs": [
        {
          "output_type": "stream",
          "name": "stdout",
          "text": [
            "3 2 \n",
            "3 2 \n"
          ]
        }
      ]
    },
    {
      "cell_type": "code",
      "source": [
        "#TASK 3\n",
        "df = np.loadtxt(sys.stdin)\n",
        "df = pd.DataFrame(data=df)\n",
        "df = df.drop_duplicates(keep='first')\n",
        "print(df.shape[0])"
      ],
      "metadata": {
        "id": "wGyk2gliEVwx"
      },
      "execution_count": null,
      "outputs": []
    },
    {
      "cell_type": "code",
      "source": [
        "#TASK 4\n",
        "df = df.drop(df.columns[[0]], axis = 1)\n",
        "print(df[df[::] == 1].count().sum())"
      ],
      "metadata": {
        "id": "TWMwBiswEXak"
      },
      "execution_count": null,
      "outputs": []
    },
    {
      "cell_type": "code",
      "source": [
        "#TASK 5\n",
        "df = df.drop(df.columns[[0]], axis = 1)\n",
        "df = df.T\n",
        "df = df[::][df == df.max(axis = 0)]\n",
        "df = df.fillna(0)\n",
        "df = df.astype(bool).astype(int)\n",
        "df = df.T\n",
        "print(df.sum().idxmax())"
      ],
      "metadata": {
        "id": "EuV3_mszCkzw"
      },
      "execution_count": null,
      "outputs": []
    }
  ]
}